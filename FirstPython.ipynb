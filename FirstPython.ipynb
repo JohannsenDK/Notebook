{
 "cells": [
  {
   "cell_type": "code",
   "execution_count": null,
   "metadata": {},
   "outputs": [],
   "source": [
    "# Python has 2 modes: Edit and Command. The color to the left of a box\n",
    "# indicates what mode you are in.\n",
    "# Green is Edit mode. Blue is Command mode. Click on this box to enter Edit mode."
   ]
  },
  {
   "cell_type": "code",
   "execution_count": null,
   "metadata": {},
   "outputs": [],
   "source": [
    "#Print Hello World\n",
    "# Press shift + Enter to run a script, press 00 to reset Kernel\n",
    "\n",
    "print('Helle World!')"
   ]
  },
  {
   "cell_type": "code",
   "execution_count": null,
   "metadata": {},
   "outputs": [],
   "source": [
    "# printing 'Hello World!' with variables instead of plain text\n",
    "hel = \"'Hello\"\n",
    "wor = \"World!'\"\n",
    "print(hel,wor)"
   ]
  },
  {
   "cell_type": "markdown",
   "metadata": {},
   "source": [
    "I am a markdown cell / used for comments... I guess..."
   ]
  },
  {
   "cell_type": "code",
   "execution_count": null,
   "metadata": {},
   "outputs": [],
   "source": [
    "# This line shows a code cell\n",
    "\n",
    "print(\"I'm a code cell\")"
   ]
  },
  {
   "cell_type": "code",
   "execution_count": null,
   "metadata": {},
   "outputs": [],
   "source": [
    "# In this line we set a variable (x) to 1 and print it\n",
    "# an alternative way to print the value of a variable is simply to write the name of the variable e.g. x - see also line below\n",
    "\n",
    "x = 1\n",
    "print(x)\n",
    "x\n",
    "\n",
    "# you can define multiple variables in a single line by using comma separation. Note the space after the comma \n",
    "a, b = 3, 4\n",
    "print(a,b)"
   ]
  },
  {
   "cell_type": "code",
   "execution_count": null,
   "metadata": {},
   "outputs": [],
   "source": [
    "x"
   ]
  },
  {
   "cell_type": "code",
   "execution_count": null,
   "metadata": {},
   "outputs": [],
   "source": [
    "# In this line we set x to 10\n",
    "\n",
    "x = 10"
   ]
  },
  {
   "cell_type": "code",
   "execution_count": null,
   "metadata": {},
   "outputs": [],
   "source": [
    "# This line is used to print only.\n",
    "# The objective of this line is to show how Python can run script lines In [] in custom order.\n",
    "# We can both define x as 1 or 10 depending on what script we run (see above). Resetting the kernel allows for re-runs\n",
    "# To reset the kernel press 00 (zero twice)\n",
    "\n",
    "print(x)"
   ]
  },
  {
   "cell_type": "code",
   "execution_count": null,
   "metadata": {},
   "outputs": [],
   "source": [
    "# \\n is used to break line\n",
    "print(\"Hello\\nWorld!\")"
   ]
  },
  {
   "cell_type": "code",
   "execution_count": null,
   "metadata": {},
   "outputs": [],
   "source": [
    "# Use the Type command to identify the Type of a value.\n",
    "# In the below example Python retuns Int(integer) - if you have run the scripts above\n",
    "\n",
    "type(1)"
   ]
  },
  {
   "cell_type": "code",
   "execution_count": null,
   "metadata": {},
   "outputs": [],
   "source": [
    "# Expressions:\n",
    "# Python can run operations. Values are called operands and mathematical expressions are called operators\n",
    "\n",
    "20 + 30"
   ]
  },
  {
   "cell_type": "code",
   "execution_count": null,
   "metadata": {},
   "outputs": [],
   "source": [
    "# Python follows mathematical rules. In the below example Python mutiplies 2 and 3 before adding 10.\n",
    "\n",
    "2*3+10"
   ]
  },
  {
   "cell_type": "code",
   "execution_count": null,
   "metadata": {},
   "outputs": [],
   "source": [
    "# We can control howe Python make operations by using parentheses etc.\n",
    "\n",
    "2*(3+10)"
   ]
  },
  {
   "cell_type": "code",
   "execution_count": null,
   "metadata": {},
   "outputs": [],
   "source": [
    "# We can define variables in Python\n",
    "# This enables us gain insights to data, by importing data, manipulate imported data and report and presenting it\n",
    "\n",
    "my_variable = 300\n",
    "variable2 = my_variable / 60"
   ]
  },
  {
   "cell_type": "code",
   "execution_count": null,
   "metadata": {},
   "outputs": [],
   "source": [
    "# Note how Python by default make variables float Type\n",
    "\n",
    "print(variable2)"
   ]
  },
  {
   "cell_type": "code",
   "execution_count": null,
   "metadata": {},
   "outputs": [],
   "source": [
    "# Check the Python Version\n",
    "\n",
    "import sys\n",
    "print(sys.version)"
   ]
  },
  {
   "cell_type": "code",
   "execution_count": null,
   "metadata": {},
   "outputs": [],
   "source": [
    "# This line checks the Type og the value True. True and False are Boolean values. Thus, the operation below returns bool.\n",
    "\n",
    "type(True)"
   ]
  },
  {
   "cell_type": "code",
   "execution_count": null,
   "metadata": {},
   "outputs": [],
   "source": [
    "# Convert True to int\n",
    "\n",
    "int(True)"
   ]
  },
  {
   "cell_type": "code",
   "execution_count": null,
   "metadata": {},
   "outputs": [],
   "source": [
    "# Convert False to int\n",
    "\n",
    "int(False)"
   ]
  },
  {
   "cell_type": "code",
   "execution_count": null,
   "metadata": {},
   "outputs": [],
   "source": [
    "# Convert 1 to boolean\n",
    "\n",
    "bool(1)"
   ]
  },
  {
   "cell_type": "code",
   "execution_count": null,
   "metadata": {},
   "outputs": [],
   "source": [
    "# Convert 0 to boolean\n",
    "\n",
    "bool(0)"
   ]
  },
  {
   "cell_type": "code",
   "execution_count": null,
   "metadata": {},
   "outputs": [],
   "source": [
    "# Convert True to float\n",
    "\n",
    "float(True)"
   ]
  },
  {
   "cell_type": "code",
   "execution_count": null,
   "metadata": {},
   "outputs": [],
   "source": [
    "# RE-CAP: to check the type of a value or expression write Type(expression/value)\n",
    "# We can also check type of equations\n",
    "# example: what type is 6 / 2? Type(6/2) returns float\n",
    "type(6/2)"
   ]
  },
  {
   "cell_type": "code",
   "execution_count": null,
   "metadata": {},
   "outputs": [],
   "source": [
    "# The Convert command allow use to convert data types. The command below converts a Float to Integer.\n",
    "int(1.1)"
   ]
  },
  {
   "cell_type": "code",
   "execution_count": null,
   "metadata": {},
   "outputs": [],
   "source": [
    "# String Operations - A string can be seen as a sequence of values\n",
    "# each letter respresents a value depending on the letters position within the string\n",
    "# The len command returns the number of values in a particular string\n",
    "# Example: the String Hello contains 5 letters\n",
    "\n",
    "Name = \"Hello\"\n",
    "print(Name)\n",
    "len(\"Hello\")"
   ]
  },
  {
   "cell_type": "code",
   "execution_count": null,
   "metadata": {},
   "outputs": [],
   "source": [
    "# The first letter is a String has the value 0, when reading left to right\n",
    "# If you have run the script above, this line returns H\n",
    "\n",
    "Name[0]"
   ]
  },
  {
   "cell_type": "code",
   "execution_count": null,
   "metadata": {},
   "outputs": [],
   "source": [
    "# Value -1 is the first letter in a string, when reading right to left\n",
    "\n",
    "Name[-1]"
   ]
  },
  {
   "cell_type": "code",
   "execution_count": null,
   "metadata": {},
   "outputs": [],
   "source": [
    "# The FIND function\n",
    "# The Find function allows us to look up specific values within a String\n",
    "# The find function return a number for the letter's value(position) in the string.\n",
    "\n",
    "\"0123456\".find('1')"
   ]
  },
  {
   "cell_type": "code",
   "execution_count": null,
   "metadata": {},
   "outputs": [],
   "source": [
    "# Slicing allow us to extract a sequence of values from a String\n",
    "# In the below command, we use Slicing to find the first four elements of the following string:\n",
    "# In the case below D has string value 3\n",
    "\n",
    "Letters=\"ABCDEFGHIJK\"\n",
    "Letters[0:4]"
   ]
  },
  {
   "cell_type": "code",
   "execution_count": null,
   "metadata": {},
   "outputs": [],
   "source": [
    "# The Upper command allow us to convert letters in a string to uppercase.\n",
    "# Convert the following string to uppercase using the method upper()\n",
    "\n",
    "A=\"uppercase\"\n",
    "B=A.upper()\n",
    "B"
   ]
  },
  {
   "cell_type": "code",
   "execution_count": null,
   "metadata": {},
   "outputs": [],
   "source": [
    "# Use a stride value of two on the following string :\n",
    "\n",
    "Good=\"GsoAo+d\"\n",
    "\n",
    "Good[::2]"
   ]
  },
  {
   "cell_type": "code",
   "execution_count": null,
   "metadata": {},
   "outputs": [],
   "source": [
    "# We can combine Strings through concatenation.\n",
    "# Concatenate Strings\n",
    "\n",
    "Name = 'John'\n",
    "Name = Name + ' is the best'\n",
    "Name"
   ]
  },
  {
   "cell_type": "code",
   "execution_count": null,
   "metadata": {},
   "outputs": [],
   "source": [
    "# Multiplication of Strings\n",
    "\n",
    "3 * Name"
   ]
  },
  {
   "cell_type": "code",
   "execution_count": null,
   "metadata": {},
   "outputs": [],
   "source": [
    "3 + 2* 2"
   ]
  },
  {
   "cell_type": "code",
   "execution_count": null,
   "metadata": {},
   "outputs": [],
   "source": [
    "# slicing returns a number of values starting from the left\n",
    "# you add 1 to the number of values you wish to return, starting from 0\n",
    "# we can combine slicing and print\n",
    "# In the example below we wish to see the first 2 values (position 0 and 1) - the slicing is 1 larger than the length of...\n",
    "# ... a string\n",
    "\n",
    "name = 'Lizz'\n",
    "print(name[0:2])"
   ]
  },
  {
   "cell_type": "code",
   "execution_count": null,
   "metadata": {},
   "outputs": [],
   "source": [
    "# we can combine stride and print\n",
    "# END OF MODULE 1\n",
    "\n",
    "var = '01234567'\n",
    "print(var[::2])"
   ]
  },
  {
   "cell_type": "code",
   "execution_count": null,
   "metadata": {},
   "outputs": [],
   "source": [
    "# MODULE 2: TUPLES\n",
    "# Tuples are compound data types. Tuples are ordered sequences. Tuples are expressed as comma separated elements...\n",
    "# Tuples are written with parentheses\n",
    "# In the example below we create a Tuple \"Tuple1\" that contains \"disco\", 1 and 5.0\n",
    "\n",
    "Tuple1 =(\"disco\", 1, 5.0)\n",
    "print(Tuple1)\n",
    "\n",
    "# We can access different elements via index[] - Index starts from 0.\n",
    "# Through accessing elements via index, we can manipulate(change) individual parts within a Tuple - see below... \n",
    "\n",
    "Tuple1[2]\n",
    "\n",
    "# Tuple is a type of data structure. Basically it is like a basket of variables. Like a container.\n",
    "# Note how we can name a Tuple whatever we like.\n",
    "\n",
    "Test =(\"disco\", 1, 5.0)\n",
    "print(Test)\n"
   ]
  },
  {
   "cell_type": "code",
   "execution_count": null,
   "metadata": {},
   "outputs": [],
   "source": [
    "# We can access different elements via index[] - Index starts from 0.\n",
    "# Through accessing elements via index, we can manipulate(change) individual parts within a Tuple \n",
    "\n",
    "#For the next few questions, you will need the following list:\n",
    "\n",
    "B=[\"a\",\"b\",\"c\"]\n",
    "\n",
    "# Find the first two elements of the list  B:\n",
    "\n",
    "B[0:2]\n",
    "\n",
    "# Change the first element of the list to an uppercase  \"A\"\n",
    "# Here we access an element through index, and then manipulate the element - change it to uppercase.\n",
    "\n",
    "B[0]=\"A\"\n",
    "\n",
    "print (B)"
   ]
  },
  {
   "cell_type": "code",
   "execution_count": null,
   "metadata": {},
   "outputs": [],
   "source": [
    "B=[\"a\",\"b\",\"c\"]\n",
    "B[1:]"
   ]
  },
  {
   "cell_type": "code",
   "execution_count": null,
   "metadata": {},
   "outputs": [],
   "source": [
    "# In Python we work with Strings, Integers and Floats.\n",
    "# We can compound data in Lists and Tuples.\n",
    "# To create a Tuple type Tuple =()\n",
    "# Note - we can name a Tuple whatever we like.\n",
    "\n",
    "tuple1 = (\"disco\",10,1.2 )\n",
    "tuple1"
   ]
  },
  {
   "cell_type": "code",
   "execution_count": null,
   "metadata": {},
   "outputs": [],
   "source": [
    "# Beta\n",
    "# Concatenate two tuples\n",
    "\n",
    "tuple2 = tuple1 + (\"hard rock\", 10)\n",
    "tuple2"
   ]
  },
  {
   "cell_type": "code",
   "execution_count": null,
   "metadata": {},
   "outputs": [],
   "source": [
    "# Tuples are immutable - immutable means that you cannot change a tuple.\n",
    "# To change a tuple, you create a new tuple. See example below.\n"
   ]
  },
  {
   "cell_type": "code",
   "execution_count": null,
   "metadata": {},
   "outputs": [],
   "source": [
    "# Here we have a tuple. The tuple is called Ratings and contains 9 elements.\n",
    "\n",
    "Ratings = (0, 9, 6, 5, 10, 8, 9, 6, 2)"
   ]
  },
  {
   "cell_type": "code",
   "execution_count": null,
   "metadata": {},
   "outputs": [],
   "source": [
    "# To sort the tuple, we create a new tuple. Let's call it RatingsSorted.\n",
    "# See how we create a new tuple to sort Ratings. Basically, because tuples are immutable we cannot directly...\n",
    "# ... sort Ratings. But we can create a new tuple which is Ratings sorted.\n",
    "\n",
    "RatingsSorted = sorted(Ratings)\n",
    "RatingsSorted"
   ]
  },
  {
   "cell_type": "code",
   "execution_count": null,
   "metadata": {},
   "outputs": [],
   "source": [
    "# Nested Tuple\n",
    "# Create a nest tuple\n",
    "\n",
    "NestedT =(1, 2, (\"pop\", \"rock\") ,(3,4),(\"disco\",(1,2)))\n",
    "\n",
    "# Print element on each index\n",
    "\n",
    "print(\"Element 0 of Tuple: \", NestedT[0])\n",
    "print(\"Element 1 of Tuple: \", NestedT[1])\n",
    "print(\"Element 2 of Tuple: \", NestedT[2])\n",
    "print(\"Element 3 of Tuple: \", NestedT[3])\n",
    "print(\"Element 4 of Tuple: \", NestedT[4])"
   ]
  },
  {
   "cell_type": "code",
   "execution_count": null,
   "metadata": {},
   "outputs": [],
   "source": [
    "# Check that you have run the script above.\n",
    "# We can access individual elements within nested tuples using the command below.\n",
    "# Print the first element in the second nested tuples\n",
    "\n",
    "NestedT[2][1][0]"
   ]
  },
  {
   "cell_type": "code",
   "execution_count": null,
   "metadata": {},
   "outputs": [],
   "source": [
    "# LISTS\n",
    "# Lists are compound data types. Lists are ordered sequences. Lists are expressed as comma separated elements...\n",
    "# Lists are written with brackets\n",
    "# In the example below we create a List Sample that contains \"disco\", 1 and 5.0\n",
    "\n",
    "Sample =[\"disco\", 1, 5.0]\n",
    "print(Sample)\n",
    "\n",
    "# We can access different elements via index[] - Index starts from 0.\n",
    "# Through accessing elements via index, we can manipulate(change) individual parts within a List - see below... \n",
    "\n",
    "Sample[2]\n",
    "\n",
    "# List is a type of data structure. Basically it is like a basket of variables. Like a container.\n",
    "# However, lists are mutable and can be changed, which is different from tuples."
   ]
  },
  {
   "cell_type": "code",
   "execution_count": null,
   "metadata": {},
   "outputs": [],
   "source": [
    "# Alpha\n",
    "# Just like Tuples, Lists can be nested. Nested lists contain lists and tuples\n",
    "\n",
    "NestedL =[1, 2, (\"pop\", \"rock\") ,(3,4),(\"disco\",(1,2))]\n",
    "\n",
    "# Print element on each index\n",
    "\n",
    "print(\"Element 0 of List: \", NestedL[0])\n",
    "print(\"Element 1 of List: \", NestedL[1])\n",
    "print(\"Element 2 of List: \", NestedL[2])\n",
    "print(\"Element 3 of List: \", NestedL[3])\n",
    "print(\"Element 4 of List: \", NestedL[4])\n",
    "\n",
    "# We can access individual elements within nested tuples using the command below.\n",
    "# Print the first element in the second nested tuples\n",
    "\n",
    "NestedL[2][1][0]"
   ]
  },
  {
   "cell_type": "code",
   "execution_count": null,
   "metadata": {},
   "outputs": [],
   "source": [
    "# Concatenate\n",
    "NestedL[2:4]\n",
    "\n",
    "# Lists can also be concatenated\n",
    "\n",
    "NestedL2 =[1, 2]\n",
    "NestedL + NestedL2"
   ]
  },
  {
   "cell_type": "code",
   "execution_count": null,
   "metadata": {},
   "outputs": [],
   "source": [
    "# Extend\n",
    "# Lists are mutable\n",
    "# Try reset Kernel, then run Aplha script and then run this script.\n",
    "# See how the extend function adds two separate values to the List\n",
    "NestedL.extend([1, 2])\n",
    "NestedL\n",
    "\n",
    "# Note how we create new tuples, when we wish to modify them. See Line Beta\n",
    "# But we can manipulate Lists without creating new ones."
   ]
  },
  {
   "cell_type": "code",
   "execution_count": null,
   "metadata": {},
   "outputs": [],
   "source": [
    "# Append\n",
    "# Try reset Kernel, then run Aplha script and then run this script.\n",
    "# See how the append function adds one List instead of two separate values\n",
    "\n",
    "NestedL.append([1, 2])\n",
    "NestedL"
   ]
  },
  {
   "cell_type": "code",
   "execution_count": 7,
   "metadata": {},
   "outputs": [
    {
     "name": "stdout",
     "output_type": "stream",
     "text": [
      "[1, 2, 3]\n",
      "[8, 2, 3]\n"
     ]
    }
   ],
   "source": [
    "# Change \n",
    "# We can change values within a list using index\n",
    "A = [1, 2, 3]\n",
    "print (A)\n",
    "A[0]=8\n",
    "print(A)"
   ]
  },
  {
   "cell_type": "code",
   "execution_count": null,
   "metadata": {},
   "outputs": [],
   "source": [
    "# Delete\n",
    "# Try reset Kernel, then run Aplha script and then run this script.\n",
    "# We can delete individual elements in a List with the Del command\n",
    "# The command below deletes 'pop, 'rock' from the List \n",
    "\n",
    "del(NestedL[2])\n",
    "NestedL"
   ]
  },
  {
   "cell_type": "code",
   "execution_count": null,
   "metadata": {},
   "outputs": [],
   "source": [
    "#CONVERT STRING TO LIST\n",
    "# We can convert a string into a list using the split function\n",
    "# This split converts the string into a list with two elements hard and rock\n",
    "\n",
    "\"hard rock\".split()\n",
    "\n",
    "# We can also split a string based on a chosen delimiter, here a comma\n",
    "# This creates a list with four strings\n",
    "\"A,B,C,D\".split(\",\")\n"
   ]
  },
  {
   "cell_type": "code",
   "execution_count": 8,
   "metadata": {},
   "outputs": [
    {
     "data": {
      "text/plain": [
       "[1, 2, 3]"
      ]
     },
     "execution_count": 8,
     "metadata": {},
     "output_type": "execute_result"
    }
   ],
   "source": [
    "# We can aliasing lists. Here we create List B which is a copy of List A\n",
    "A =[1, 2, 3]\n",
    "B = A\n",
    "B"
   ]
  },
  {
   "cell_type": "code",
   "execution_count": 9,
   "metadata": {},
   "outputs": [
    {
     "data": {
      "text/plain": [
       "['A', 2, 3]"
      ]
     },
     "execution_count": 9,
     "metadata": {},
     "output_type": "execute_result"
    }
   ],
   "source": [
    "# If we change en element in List A, it automatically changes in List B too.\n",
    "\n",
    "A[0] = \"A\"\n",
    "B"
   ]
  },
  {
   "cell_type": "code",
   "execution_count": null,
   "metadata": {},
   "outputs": [],
   "source": [
    "# CLONE\n",
    "# If you want to duplicate a List, A, but want it in a separate list, we use Clone function\n",
    "\n",
    "A = [1,2,3]\n",
    "B = A[:]\n",
    "B"
   ]
  },
  {
   "cell_type": "code",
   "execution_count": null,
   "metadata": {},
   "outputs": [],
   "source": [
    "# See how we can extend prints to include descriptions, explanations etc by comma separation\n",
    "# Change the element based on the index\n",
    "\n",
    "A = [\"disco\", 10, 1.2]\n",
    "print('Before change:', A)\n",
    "A[0] = 'hard rock'\n",
    "print('After change:', A)"
   ]
  },
  {
   "cell_type": "code",
   "execution_count": null,
   "metadata": {},
   "outputs": [],
   "source": [
    "# SETS\n",
    "# Sets are a type of collection, just like Tuples and Lists\n",
    "# However, Sets are unordered. Each element does not come in sequence.\n",
    "# Sets only contain unique values. Duplicates are removed.\n",
    "# Sets are written in brackets\n",
    "# Note how Sets display strings in alphabetical order\n",
    "\n",
    "Brokers ={'Aon', 'Willis', 'Marsh', 'Marsh', 'Aon', 'Aon', 'Dansoe', 'Hansson & Partner'}\n",
    "Brokers"
   ]
  },
  {
   "cell_type": "code",
   "execution_count": null,
   "metadata": {},
   "outputs": [],
   "source": [
    "#Type Casting allow us to convert Lists to Set\n",
    "\n",
    "A =[\"Allan\", \"Allan\", 5, 2, 3.4]\n",
    "print(A)\n",
    "Set =set(A)\n",
    "print(Set)"
   ]
  },
  {
   "cell_type": "code",
   "execution_count": null,
   "metadata": {},
   "outputs": [],
   "source": [
    "# Run the script above before start\n",
    "# We can verify if a set contains a particular value using the in Function\n",
    "# In the command below, we check if Set contains the string \"Allan\"\n",
    "# The in Function returns a boolean value (True, False)\n",
    "\n",
    "\"Allan\" in Set"
   ]
  },
  {
   "cell_type": "code",
   "execution_count": null,
   "metadata": {},
   "outputs": [],
   "source": [
    "#Cast List to Set\n",
    "A = ['A','B','C','A','B','C']\n",
    "B = set(A)\n",
    "B"
   ]
  },
  {
   "cell_type": "code",
   "execution_count": null,
   "metadata": {},
   "outputs": [],
   "source": [
    "# Intersection between A and B\n",
    "# Alternatively use the intersection function\n",
    "A={1,2,3,4,5}\n",
    "B={1,3,5,9,12}\n",
    "C = A & B\n",
    "print(C)\n",
    "\n",
    "print(A.intersection(B))\n",
    "\n",
    "# We can also check what values are different between two sets\n",
    "# Use a Veen diagram to visualize how the functions below work\n",
    "print(A.difference(B) )\n",
    "print(B.difference(A) )"
   ]
  },
  {
   "cell_type": "code",
   "execution_count": null,
   "metadata": {},
   "outputs": [],
   "source": [
    "# UNION function | Superset Function\n",
    "# Find the union of two sets\n",
    "\n",
    "A.union(B)\n",
    "\n",
    "# Check if superset\n",
    "\n",
    "print(set(A).issuperset(B)  )\n",
    "\n",
    "# Check if subset\n",
    "\n",
    "print(set(A).issubset(B))"
   ]
  },
  {
   "cell_type": "code",
   "execution_count": null,
   "metadata": {},
   "outputs": [],
   "source": [
    "# SUM Function\n",
    "# The SUM Function return the sum of values\n",
    "A =[1, 2, 2, 1]\n",
    "B ={1, 2, 2, 1}\n",
    "\n",
    "print (sum(A))\n",
    "print (sum(B))"
   ]
  },
  {
   "cell_type": "code",
   "execution_count": null,
   "metadata": {},
   "outputs": [],
   "source": [
    "# DICTIONARIES\n",
    "# What are Dictionaries?\n",
    "# A dictionary consists of keys and values. It is helpful to compare a dictionary to a list.\n",
    "# Instead of the numerical indexes such as a list, dictionaries have keys.\n",
    "# These keys are the keys that are used to access values within a dictionary.\n",
    "# In summary, like a list, a dictionary holds a sequence of elements.\n",
    "# Each element is represented by a key and its corresponding value.\n",
    "# Dictionaries are created with two curly braces containing keys and values separated by a colon.\n",
    "# For every key, there can only be one single value, however, multiple keys can hold the same value.\n",
    "# Keys can only be strings, numbers, or tuples, but values can be any data type.\n",
    "\n",
    "Dict={\"A\":1,\"B\":\"2\",\"C\":[3,3,3],\"D\":(4,4,4),'E':5,'F':6}\n",
    "Dict[\"D\"]"
   ]
  },
  {
   "cell_type": "code",
   "execution_count": 10,
   "metadata": {},
   "outputs": [
    {
     "data": {
      "text/plain": [
       "{'key1': 1,\n",
       " 'key2': '2',\n",
       " 'key3': [3, 3, 3],\n",
       " 'key4': (4, 4, 4),\n",
       " 'key5': 5,\n",
       " (0, 1): 6}"
      ]
     },
     "execution_count": 10,
     "metadata": {},
     "output_type": "execute_result"
    }
   ],
   "source": [
    "# Create the dictionary\n",
    "\n",
    "Dict = {\"key1\": 1, \"key2\": \"2\", \"key3\": [3, 3, 3], \"key4\": (4, 4, 4), ('key5'): 5, (0, 1): 6}\n",
    "Dict"
   ]
  },
  {
   "cell_type": "code",
   "execution_count": 11,
   "metadata": {},
   "outputs": [
    {
     "data": {
      "text/plain": [
       "1"
      ]
     },
     "execution_count": 11,
     "metadata": {},
     "output_type": "execute_result"
    }
   ],
   "source": [
    "# Access to the value by the key\n",
    "\n",
    "Dict[\"key1\"]"
   ]
  },
  {
   "cell_type": "code",
   "execution_count": 12,
   "metadata": {},
   "outputs": [
    {
     "data": {
      "text/plain": [
       "6"
      ]
     },
     "execution_count": 12,
     "metadata": {},
     "output_type": "execute_result"
    }
   ],
   "source": [
    "# Access to the value by the key\n",
    "\n",
    "Dict[(0, 1)]"
   ]
  },
  {
   "cell_type": "code",
   "execution_count": null,
   "metadata": {},
   "outputs": [],
   "source": [
    "# Append value with key into dictionary\n",
    "\n",
    "Dict['Graduation'] = '2007'\n",
    "Dict"
   ]
  },
  {
   "cell_type": "code",
   "execution_count": null,
   "metadata": {},
   "outputs": [],
   "source": [
    "# Delete entries by key\n",
    "\n",
    "del(Dict['Graduation'])\n",
    "Dict"
   ]
  },
  {
   "cell_type": "code",
   "execution_count": 14,
   "metadata": {},
   "outputs": [
    {
     "data": {
      "text/plain": [
       "False"
      ]
     },
     "execution_count": 14,
     "metadata": {},
     "output_type": "execute_result"
    }
   ],
   "source": [
    "# Get all the keys in dictionary\n",
    "\n",
    "Dict.keys()\n",
    "\n",
    "# Get all the values in dictionary\n",
    "\n",
    "Dict.values()\n",
    "\n",
    "# Verify the key is in the dictionary\n",
    "\n",
    "'B' in Dict"
   ]
  },
  {
   "cell_type": "code",
   "execution_count": 13,
   "metadata": {},
   "outputs": [
    {
     "ename": "KeyError",
     "evalue": "'A'",
     "output_type": "error",
     "traceback": [
      "\u001b[1;31m---------------------------------------------------------------------------\u001b[0m",
      "\u001b[1;31mKeyError\u001b[0m                                  Traceback (most recent call last)",
      "\u001b[1;32m<ipython-input-13-5875c1c2d719>\u001b[0m in \u001b[0;36m<module>\u001b[1;34m\u001b[0m\n\u001b[0;32m      1\u001b[0m \u001b[1;31m#Look up a corresponding value - e.g. what values does \"A\" hold?\u001b[0m\u001b[1;33m\u001b[0m\u001b[1;33m\u001b[0m\u001b[1;33m\u001b[0m\u001b[0m\n\u001b[1;32m----> 2\u001b[1;33m \u001b[0mDict\u001b[0m\u001b[1;33m[\u001b[0m\u001b[1;34m\"A\"\u001b[0m\u001b[1;33m]\u001b[0m\u001b[1;33m\u001b[0m\u001b[1;33m\u001b[0m\u001b[0m\n\u001b[0m",
      "\u001b[1;31mKeyError\u001b[0m: 'A'"
     ]
    }
   ],
   "source": [
    "#Look up a corresponding value - e.g. what values does \"A\" hold?\n",
    "Dict[\"A\"]"
   ]
  },
  {
   "cell_type": "code",
   "execution_count": null,
   "metadata": {},
   "outputs": [],
   "source": [
    "#MODULE 3: Python Programming Fundamentals\n"
   ]
  },
  {
   "cell_type": "code",
   "execution_count": null,
   "metadata": {},
   "outputs": [],
   "source": [
    "#Comparison Operators / CONDITIONS AND BRANCHING\n",
    "# Comparison operators compare some value or operand, then, based on some condition, they produce a Boolean.\n",
    "\n",
    "#Let’s say\n",
    "a = 6\n",
    "\n",
    "# To do a conditional comparison or two operands, we write\n",
    "\n",
    "a == 7\n",
    "\n",
    "# This operator asks if the operand a is equal to the operand 7 and then returns a true or false.\n",
    "# In this example it returns false, as a = 6 and the other operand is 7.\n",
    "\n",
    "# Comparison Operators\n",
    "\n",
    "# Comparison operations compare some value or operand and, based on a condition, they produce a Boolean.\n",
    "# When comparing two values you can use these operators:\n",
    "#\n",
    " #   equal: ==\n",
    "  #  not equal: !=\n",
    "   # greater than: >\n",
    "    #less than: <\n",
    "    #greater than or equal to: >=\n",
    "    #less than or equal to: <=\n",
    "\n"
   ]
  },
  {
   "cell_type": "code",
   "execution_count": null,
   "metadata": {},
   "outputs": [],
   "source": [
    "# We can also compare values and operands to expressions (< >) and operands ( + - * / )\n",
    "i = 1\n",
    "x = 1\n",
    "y = 1\n",
    "\n",
    "i == x + y"
   ]
  },
  {
   "cell_type": "code",
   "execution_count": null,
   "metadata": {},
   "outputs": [],
   "source": [
    "# The expression != (exclamation mark + equal sign) tests if the comparison is false (not true)\n",
    "x = 2\n",
    "x != 2"
   ]
  },
  {
   "cell_type": "code",
   "execution_count": null,
   "metadata": {},
   "outputs": [],
   "source": [
    "# Use Equality sign to compare the strings\n",
    "\n",
    "\"ACDC\" == \"Michael Jackson\""
   ]
  },
  {
   "cell_type": "code",
   "execution_count": null,
   "metadata": {},
   "outputs": [],
   "source": [
    "#BACKGROUND\n",
    "# Inequality operation is also used to compare the letters/words/symbols according to the ASCII value of letters.\n",
    "# The decimal value shown in the following table represents the order of the character:\n",
    "# For example, the ASCII code for ! is 21, while the ASCII code for + is 43.\n",
    "# Therefore + is larger than ! as 43 is greater than 21.\n",
    "#Likewise B is greater than A because A is ASCII 101 and B is ASCII 102\n"
   ]
  },
  {
   "cell_type": "code",
   "execution_count": null,
   "metadata": {},
   "outputs": [],
   "source": [
    "# BRANCHING\n",
    "# The If statement checks if a condition is met. If the condition is met the intrent is run.\n",
    "# Note how Python will always run code below the if statement regardless. Compare age = 12 to age = 20.\n",
    "# Branching allows us to run different statements for different inputs.\n",
    "# It is helpful to think of an if statement as a locked room, if the statement is True\n",
    "# we can enter the room and your program will run some predefined tasks, but if the statement is False\n",
    "# the program will ignore the task.\n",
    "\n",
    "age = 12\n",
    "\n",
    "if (age > 17):\n",
    "    \n",
    "    print(\"you may enter\")\n",
    "    \n",
    "print (\"move alone\")"
   ]
  },
  {
   "cell_type": "code",
   "execution_count": null,
   "metadata": {},
   "outputs": [],
   "source": [
    "# The else expression allow us to do a A/B logic\n",
    "# Note the parenthesis in the if statement are not mandatory\n",
    "\n",
    "age = 12\n",
    "\n",
    "if (age > 17):\n",
    "    \n",
    "    print(\"you may enter\")\n",
    "\n",
    "else:\n",
    "    \n",
    "    print (\"move alone\")\n",
    "    \n",
    "print (\"want something to drink?\")"
   ]
  },
  {
   "cell_type": "code",
   "execution_count": null,
   "metadata": {},
   "outputs": [],
   "source": [
    "#ELIF statements (else if)\n",
    "\n",
    "age = 19\n",
    "\n",
    "if age > 18:\n",
    "    print(\"You can enter\")\n",
    "    \n",
    "elif(age==18):\n",
    "    print(\"Go see Pink Floyd\")\n",
    "    \n",
    "else:\n",
    "    print(\"Go see Meat Loaf\")\n",
    "    \n",
    "print(\"Move on\")"
   ]
  },
  {
   "cell_type": "code",
   "execution_count": null,
   "metadata": {},
   "outputs": [],
   "source": [
    "# LOGIC OPERATORS"
   ]
  },
  {
   "cell_type": "code",
   "execution_count": null,
   "metadata": {},
   "outputs": [],
   "source": [
    "# Condition statement example IF NOT\n",
    "\n",
    "album_year = 1983\n",
    "\n",
    "if not (album_year == '1984'):\n",
    "    print (\"Album year is not 1984\")"
   ]
  },
  {
   "cell_type": "code",
   "execution_count": null,
   "metadata": {},
   "outputs": [],
   "source": [
    "# Condition statement example AND\n",
    "\n",
    "album_year = 1980\n",
    "\n",
    "if(album_year > 1979) and (album_year < 1990):\n",
    "    print (\"Album year was in between 1980 and 1989\")\n",
    "    \n",
    "print(\"\")\n",
    "print(\"Do Stuff..\")"
   ]
  },
  {
   "cell_type": "code",
   "execution_count": null,
   "metadata": {},
   "outputs": [],
   "source": [
    "# Condition statement example OR\n",
    "\n",
    "album_year = 1990\n",
    "\n",
    "if(album_year < 1980) or (album_year > 1989):\n",
    "    print (\"Album was not made in the 1980's\")\n",
    "else:\n",
    "    print(\"The Album was made in the 1980's \")"
   ]
  },
  {
   "cell_type": "code",
   "execution_count": null,
   "metadata": {},
   "outputs": [],
   "source": [
    "# Write your code below and press Shift+Enter to execute\n",
    "\n",
    "album_year = 1970\n",
    "\n",
    "if (album_year < 1980) or (album_year == 1991) or (album_year == 1993):\n",
    "    print(album_year)"
   ]
  },
  {
   "cell_type": "code",
   "execution_count": 19,
   "metadata": {},
   "outputs": [
    {
     "data": {
      "text/plain": [
       "range(0, 3)"
      ]
     },
     "execution_count": 19,
     "metadata": {},
     "output_type": "execute_result"
    }
   ],
   "source": [
    "# FOR LOOPS && WHILE LOOPS\n",
    "# First Range function\n",
    "# The Range function outputs an ordered sequence in a List.\n",
    "# The Range function names List i.\n",
    "range(3) # produces [0,1,2]\n",
    "# range(10,15) produces [10,11,12,13,14]"
   ]
  },
  {
   "cell_type": "code",
   "execution_count": 20,
   "metadata": {},
   "outputs": [
    {
     "ename": "IndentationError",
     "evalue": "unexpected indent (<ipython-input-20-e224458996fa>, line 3)",
     "output_type": "error",
     "traceback": [
      "\u001b[1;36m  File \u001b[1;32m\"<ipython-input-20-e224458996fa>\"\u001b[1;36m, line \u001b[1;32m3\u001b[0m\n\u001b[1;33m    print(squares)\u001b[0m\n\u001b[1;37m    ^\u001b[0m\n\u001b[1;31mIndentationError\u001b[0m\u001b[1;31m:\u001b[0m unexpected indent\n"
     ]
    }
   ],
   "source": [
    "# The FOR LOOP function - see how the function runs in iterations\n",
    "squares =['Allan', 'Bobby', 'Cello']\n",
    "    print(squares)\n",
    "\n",
    "    print(\"\")\n",
    "\n",
    "for i in range(0,3): # Remember the colon\n",
    "    squares[i]= 'Delta'\n",
    "\n",
    "    print (squares)"
   ]
  },
  {
   "cell_type": "code",
   "execution_count": 21,
   "metadata": {},
   "outputs": [
    {
     "name": "stdout",
     "output_type": "stream",
     "text": [
      "['Black']\n",
      "['Black', 'Black']\n",
      "['Black', 'Black', 'Black']\n"
     ]
    }
   ],
   "source": [
    "# The WHILE LOOP performs a similar task as the FOR LOOP.\n",
    "# However, the while loop will only run while a condition is met.\n",
    "# The loop is interrupted at \"Brown\"\n",
    "\n",
    "squares = [\"Black\", \"Black\", \"Black\", \"Brown\", \"Black\"]\n",
    "\n",
    "NewSquares = []\n",
    "\n",
    "i=0\n",
    "\n",
    "while (squares[i] == \"Black\") : # read as \"As long as...\"\n",
    "    \n",
    "    NewSquares.append(squares[i]) # read as: then append to NewSquares the particular element\n",
    "    \n",
    "    i = i + 1\n",
    "    \n",
    "    print(NewSquares)"
   ]
  },
  {
   "cell_type": "code",
   "execution_count": null,
   "metadata": {},
   "outputs": [],
   "source": [
    "# We can name the index anything we want (i, a, b, john, etc)\n",
    "A=[1,2,3,4,5]\n",
    "\n",
    "for number in A:\n",
    "    print(number)\n"
   ]
  },
  {
   "cell_type": "code",
   "execution_count": null,
   "metadata": {},
   "outputs": [],
   "source": [
    "# Use for loop to change the elements in list\n",
    "\n",
    "squares = ['red', 'yellow', 'green', 'purple', 'blue']\n",
    "\n",
    "for i in range(0, 5):\n",
    "    print(\"Before square \", i, 'is',  squares[i])\n",
    "    squares[i] = 'weight'\n",
    "    print(\"After square \", i, 'is',  squares[i])"
   ]
  },
  {
   "cell_type": "code",
   "execution_count": null,
   "metadata": {},
   "outputs": [],
   "source": [
    "# Loop through the list and iterate on both index and element value\n",
    "\n",
    "squares=['red', 'yellow', 'green', 'purple', 'blue']\n",
    "\n",
    "for i, square in enumerate(squares):\n",
    "    print(i, square)"
   ]
  },
  {
   "cell_type": "code",
   "execution_count": null,
   "metadata": {},
   "outputs": [],
   "source": [
    "# While Loop Example\n",
    "\n",
    "dates = [1982, 1980, 1973, 2000]\n",
    "\n",
    "i = 0\n",
    "year = 0\n",
    "\n",
    "while(year != 1973):\n",
    "    year = dates[i]\n",
    "    i = i + 1\n",
    "    print(year)\n",
    "\n",
    "print(\"It took \", i ,\"repetitions to get out of loop.\")"
   ]
  },
  {
   "cell_type": "code",
   "execution_count": null,
   "metadata": {},
   "outputs": [],
   "source": [
    "# Write your code below and press Shift+Enter to execute\n",
    "range(-5,5)\n",
    "\n",
    "i = -5\n",
    "\n",
    "for i in range(-5,6):\n",
    "    print(i)\n",
    "    \n",
    "    i = i + 1\n",
    "    \n",
    "#OR"
   ]
  },
  {
   "cell_type": "code",
   "execution_count": null,
   "metadata": {},
   "outputs": [],
   "source": [
    "for i in range(-5,6):\n",
    "    print(i)"
   ]
  },
  {
   "cell_type": "code",
   "execution_count": null,
   "metadata": {},
   "outputs": [],
   "source": [
    "# Print the elements of the following list: Genres=[ 'rock', 'R&B', 'Soundtrack', 'R&B', 'soul', 'pop']\n",
    "# Make sure you follow Python conventions.\n",
    "\n",
    "# Write your code below and press Shift+Enter to execute\n",
    "\n",
    "Genres = [\"rock\", \"R&B\", \"Soundtrack\", \"R&B\", \"Soul\", \"Pop\" ]\n",
    "\n",
    "for genre in Genres:\n",
    "    print (genre)"
   ]
  },
  {
   "cell_type": "code",
   "execution_count": null,
   "metadata": {},
   "outputs": [],
   "source": [
    "# HARD\n",
    "# For PlayListRatings, write a while loop to display ratings until rating is below 6\n",
    "# Write your code below and press Shift+Enter to execute\n",
    "\n",
    "PlayListRatings = [10, 9.5, 10, 8, 7.5, 5, 10, 10]\n",
    "\n",
    "i = 0\n",
    "Rating = PlayListRatings[0]\n",
    "\n",
    "while (Rating > 6):\n",
    "    print(Rating) \n",
    "    Rating = PlayListRatings[i]\n",
    "    i = i + 1 "
   ]
  },
  {
   "cell_type": "code",
   "execution_count": null,
   "metadata": {},
   "outputs": [],
   "source": [
    "x = 1\n",
    "while True:\n",
    "    print(\"To infinity and beyond! We're getting close, on %d now!\" % (x))\n",
    "    x += 1"
   ]
  },
  {
   "cell_type": "code",
   "execution_count": null,
   "metadata": {},
   "outputs": [],
   "source": [
    "#Fun and Games below..."
   ]
  },
  {
   "cell_type": "code",
   "execution_count": null,
   "metadata": {},
   "outputs": [],
   "source": [
    "import xlrd\n",
    "\n",
    "loc = ('Z:\\TestSheet.xlsx')\n",
    "\n",
    "workbook = xlrd.open_workbook(loc)\n",
    "\n",
    "sheet = workbook.sheet_by_index(0)\n",
    "sheet.cell_value(0, 0) \n",
    "  \n",
    "for i in range(sheet.ncols): \n",
    "    print(sheet.cell_value(0, i)) \n"
   ]
  },
  {
   "cell_type": "code",
   "execution_count": 1,
   "metadata": {},
   "outputs": [
    {
     "ename": "IndentationError",
     "evalue": "expected an indented block (<ipython-input-1-9a6417d05ef5>, line 3)",
     "output_type": "error",
     "traceback": [
      "\u001b[1;36m  File \u001b[1;32m\"<ipython-input-1-9a6417d05ef5>\"\u001b[1;36m, line \u001b[1;32m3\u001b[0m\n\u001b[1;33m    return sum(c)\u001b[0m\n\u001b[1;37m         ^\u001b[0m\n\u001b[1;31mIndentationError\u001b[0m\u001b[1;31m:\u001b[0m expected an indented block\n"
     ]
    }
   ],
   "source": [
    "\n",
    "\n",
    "def f(c):\n",
    "\n",
    "return sum(c)\n"
   ]
  },
  {
   "cell_type": "code",
   "execution_count": null,
   "metadata": {},
   "outputs": [],
   "source": [
    "# Function example\n",
    "\n",
    "def type_of_album(artist, album, year_released):\n",
    "    \n",
    "    print(artist, album, year_released)\n",
    "    if year_released > 1980:\n",
    "        return \"Modern\"\n",
    "    else:\n",
    "        return \"Oldie\"\n",
    "    \n",
    "x = type_of_album(\"Michael Jackson\", \"Thriller\", 1980)\n",
    "print(x)"
   ]
  },
  {
   "cell_type": "code",
   "execution_count": null,
   "metadata": {},
   "outputs": [],
   "source": [
    "# Example for setting param with default value\n",
    "\n",
    "def isGoodRating(rating=4): \n",
    "    if(rating < 7):\n",
    "        print(\"this album sucks it's rating is\",rating)\n",
    "        \n",
    "    else:\n",
    "        print(\"this album is good its rating is\",rating)\n"
   ]
  },
  {
   "cell_type": "code",
   "execution_count": null,
   "metadata": {},
   "outputs": [],
   "source": [
    "# Test the value with default value and with input\n",
    "\n",
    "isGoodRating()\n",
    "isGoodRating(10)"
   ]
  },
  {
   "cell_type": "code",
   "execution_count": null,
   "metadata": {},
   "outputs": [],
   "source": [
    "artist = \"Michael Jackson\"\n",
    "\n",
    "def printer(artist):\n",
    "    global internal_var \n",
    "    internal_var = \"Whitney Houston\"\n",
    "    print(artist,\"is an artist\")\n",
    "\n",
    "printer(artist) \n",
    "printer(internal_var)"
   ]
  },
  {
   "cell_type": "code",
   "execution_count": null,
   "metadata": {},
   "outputs": [],
   "source": [
    "artist = \"Michael Jackson\"\n",
    "\n",
    "def printer(artist):\n",
    "    global internal_var \n",
    "    internal_var = \"Whitney Houston\"\n",
    "    print(artist,\"is an artist\")\n",
    "\n",
    "printer(artist) \n",
    "printer(internal_var)"
   ]
  },
  {
   "cell_type": "code",
   "execution_count": 2,
   "metadata": {},
   "outputs": [
    {
     "name": "stdout",
     "output_type": "stream",
     "text": [
      "AC/DC's rating is: 0.0\n",
      "Deep Purple's rating is:  10.0\n",
      "My favourite band is: AC/DC\n"
     ]
    }
   ],
   "source": [
    "# See how global values take presedence over local values\n",
    "# Example of global variable and local variable with the same name\n",
    "\n",
    "myFavouriteBand = \"AC/DC\"\n",
    "\n",
    "def getBandRating(bandname):\n",
    "    myFavouriteBand = \"Deep Purple\"\n",
    "    if bandname == myFavouriteBand:\n",
    "        return 10.0\n",
    "    else:\n",
    "        return 0.0\n",
    "\n",
    "print(\"AC/DC's rating is:\",getBandRating(\"AC/DC\"))\n",
    "print(\"Deep Purple's rating is: \",getBandRating(\"Deep Purple\"))\n",
    "print(\"My favourite band is:\",myFavouriteBand)"
   ]
  },
  {
   "cell_type": "code",
   "execution_count": null,
   "metadata": {},
   "outputs": [],
   "source": [
    "import pandas as pd\n",
    "\n",
    "df=pd.DataFrame({'a':[1,2,1],'b':[1,1,1]})"
   ]
  },
  {
   "cell_type": "code",
   "execution_count": null,
   "metadata": {},
   "outputs": [],
   "source": [
    "df['a'].unique()"
   ]
  },
  {
   "cell_type": "code",
   "execution_count": null,
   "metadata": {},
   "outputs": [],
   "source": [
    "df=pd.DataFrame({'a':[1,2,1],'b':[1,1,1]}) "
   ]
  },
  {
   "cell_type": "code",
   "execution_count": 25,
   "metadata": {},
   "outputs": [
    {
     "data": {
      "text/plain": [
       "array([20,  1,  2,  3,  4])"
      ]
     },
     "execution_count": 25,
     "metadata": {},
     "output_type": "execute_result"
    }
   ],
   "source": [
    "import numpy as np\n",
    "c=np.array([20, 1, 2, 3, 4])\n",
    "c"
   ]
  },
  {
   "cell_type": "code",
   "execution_count": 26,
   "metadata": {},
   "outputs": [
    {
     "data": {
      "text/plain": [
       "array([0, 0, 0, 0, 0])"
      ]
     },
     "execution_count": 26,
     "metadata": {},
     "output_type": "execute_result"
    }
   ],
   "source": [
    "a=np.array([0,1,0,1,0])\n",
    "\n",
    "b=np.array([1,0,1,0,1])\n",
    "\n",
    "a*b"
   ]
  },
  {
   "cell_type": "code",
   "execution_count": 27,
   "metadata": {},
   "outputs": [
    {
     "data": {
      "text/plain": [
       "0"
      ]
     },
     "execution_count": 27,
     "metadata": {},
     "output_type": "execute_result"
    }
   ],
   "source": [
    "a=np.array([0,1])\n",
    "\n",
    "b=np.array([1,0])\n",
    "\n",
    "np.dot(a,b)"
   ]
  },
  {
   "cell_type": "code",
   "execution_count": 29,
   "metadata": {},
   "outputs": [
    {
     "data": {
      "text/plain": [
       "array([11, 11, 11, 11, 11])"
      ]
     },
     "execution_count": 29,
     "metadata": {},
     "output_type": "execute_result"
    }
   ],
   "source": [
    "#what is the result of the following lines of code:\n",
    "\n",
    "a=np.array([1,1,1,1,1])\n",
    "\n",
    "a+10 "
   ]
  },
  {
   "cell_type": "code",
   "execution_count": 32,
   "metadata": {},
   "outputs": [
    {
     "data": {
      "text/plain": [
       "3.0"
      ]
     },
     "execution_count": 32,
     "metadata": {},
     "output_type": "execute_result"
    }
   ],
   "source": [
    "import numpy as np\n",
    "a=np.array([1,2,3,4,5])\n",
    "\n",
    "type(a)\n",
    "a.shape\n",
    "a.dtype\n",
    "np.mean(a)"
   ]
  },
  {
   "cell_type": "code",
   "execution_count": 34,
   "metadata": {},
   "outputs": [
    {
     "name": "stdout",
     "output_type": "stream",
     "text": [
      "[1 2 3 4 5]\n"
     ]
    }
   ],
   "source": [
    "A=np.array([[1,2],[3,4],[5,6],[7,8]])\n",
    "print(a)"
   ]
  },
  {
   "cell_type": "code",
   "execution_count": 35,
   "metadata": {},
   "outputs": [
    {
     "ename": "ValueError",
     "evalue": "shapes (4,2) and (3,3) not aligned: 2 (dim 1) != 3 (dim 0)",
     "output_type": "error",
     "traceback": [
      "\u001b[1;31m---------------------------------------------------------------------------\u001b[0m",
      "\u001b[1;31mValueError\u001b[0m                                Traceback (most recent call last)",
      "\u001b[1;32m<ipython-input-35-c1bcf0e42516>\u001b[0m in \u001b[0;36m<module>\u001b[1;34m\u001b[0m\n\u001b[0;32m      3\u001b[0m \u001b[0mB\u001b[0m\u001b[1;33m=\u001b[0m\u001b[0mnp\u001b[0m\u001b[1;33m.\u001b[0m\u001b[0marray\u001b[0m\u001b[1;33m(\u001b[0m\u001b[1;33m[\u001b[0m\u001b[1;33m[\u001b[0m\u001b[1;36m1\u001b[0m\u001b[1;33m,\u001b[0m\u001b[1;36m2\u001b[0m\u001b[1;33m,\u001b[0m\u001b[1;36m3\u001b[0m\u001b[1;33m]\u001b[0m\u001b[1;33m,\u001b[0m\u001b[1;33m[\u001b[0m\u001b[1;36m4\u001b[0m\u001b[1;33m,\u001b[0m\u001b[1;36m5\u001b[0m\u001b[1;33m,\u001b[0m\u001b[1;36m6\u001b[0m\u001b[1;33m]\u001b[0m\u001b[1;33m,\u001b[0m\u001b[1;33m[\u001b[0m\u001b[1;36m7\u001b[0m\u001b[1;33m,\u001b[0m\u001b[1;36m8\u001b[0m\u001b[1;33m,\u001b[0m\u001b[1;36m9\u001b[0m\u001b[1;33m]\u001b[0m\u001b[1;33m]\u001b[0m\u001b[1;33m)\u001b[0m\u001b[1;33m\u001b[0m\u001b[1;33m\u001b[0m\u001b[0m\n\u001b[0;32m      4\u001b[0m \u001b[1;33m\u001b[0m\u001b[0m\n\u001b[1;32m----> 5\u001b[1;33m \u001b[0mnp\u001b[0m\u001b[1;33m.\u001b[0m\u001b[0mdot\u001b[0m\u001b[1;33m(\u001b[0m\u001b[0mA\u001b[0m\u001b[1;33m,\u001b[0m\u001b[0mB\u001b[0m\u001b[1;33m)\u001b[0m\u001b[1;33m\u001b[0m\u001b[1;33m\u001b[0m\u001b[0m\n\u001b[0m",
      "\u001b[1;32m<__array_function__ internals>\u001b[0m in \u001b[0;36mdot\u001b[1;34m(*args, **kwargs)\u001b[0m\n",
      "\u001b[1;31mValueError\u001b[0m: shapes (4,2) and (3,3) not aligned: 2 (dim 1) != 3 (dim 0)"
     ]
    }
   ],
   "source": [
    "A=np.array([[1,2],[3,4],[5,6],[7,8]])\n",
    "\n",
    "B=np.array([[1,2,3],[4,5,6],[7,8,9]])\n",
    "\n",
    "np.dot(A,B) "
   ]
  },
  {
   "cell_type": "code",
   "execution_count": null,
   "metadata": {},
   "outputs": [],
   "source": [
    "# Create a list\n",
    "\n",
    "a = [[11, 12, 13], [21, 22, 23], [31, 32, 33]]\n",
    "a"
   ]
  },
  {
   "cell_type": "code",
   "execution_count": null,
   "metadata": {},
   "outputs": [],
   "source": [
    "# Convert list to Numpy Array\n",
    "# Every element is the same type\n",
    "\n",
    "A = np.array(a)\n",
    "A"
   ]
  },
  {
   "cell_type": "code",
   "execution_count": null,
   "metadata": {},
   "outputs": [],
   "source": [
    "# Create a matrix C\n",
    "\n",
    "C = np.array([[1,1],[2,2],[3,3]])\n",
    "C"
   ]
  },
  {
   "cell_type": "code",
   "execution_count": null,
   "metadata": {},
   "outputs": [],
   "source": [
    "# Get the transposed of C\n",
    "\n",
    "C.T"
   ]
  },
  {
   "cell_type": "code",
   "execution_count": 37,
   "metadata": {},
   "outputs": [
    {
     "ename": "ModuleNotFoundError",
     "evalue": "No module named 'nba_api'",
     "output_type": "error",
     "traceback": [
      "\u001b[1;31m---------------------------------------------------------------------------\u001b[0m",
      "\u001b[1;31mModuleNotFoundError\u001b[0m                       Traceback (most recent call last)",
      "\u001b[1;32m<ipython-input-37-fd2a9ff974fa>\u001b[0m in \u001b[0;36m<module>\u001b[1;34m\u001b[0m\n\u001b[1;32m----> 1\u001b[1;33m \u001b[1;32mfrom\u001b[0m \u001b[0mnba_api\u001b[0m\u001b[1;33m.\u001b[0m\u001b[0mstats\u001b[0m\u001b[1;33m.\u001b[0m\u001b[0mstatic\u001b[0m \u001b[1;32mimport\u001b[0m \u001b[0mteams\u001b[0m\u001b[1;33m\u001b[0m\u001b[1;33m\u001b[0m\u001b[0m\n\u001b[0m",
      "\u001b[1;31mModuleNotFoundError\u001b[0m: No module named 'nba_api'"
     ]
    }
   ],
   "source": [
    "from nba_api.stats.static import teams"
   ]
  },
  {
   "cell_type": "code",
   "execution_count": 38,
   "metadata": {},
   "outputs": [
    {
     "name": "stderr",
     "output_type": "stream",
     "text": [
      "'wget' is not recognized as an internal or external command,\n",
      "operable program or batch file.\n"
     ]
    }
   ],
   "source": [
    "! wget https://s3-api.us-geo.objectstorage.softlayer.net/cf-courses-data/CognitiveClass/PY0101EN/Chapter%205/Labs/Golden_State.pkl"
   ]
  },
  {
   "cell_type": "code",
   "execution_count": null,
   "metadata": {},
   "outputs": [],
   "source": []
  }
 ],
 "metadata": {
  "celltoolbar": "Raw Cell Format",
  "kernelspec": {
   "display_name": "Python 3",
   "language": "python",
   "name": "python3"
  },
  "language_info": {
   "codemirror_mode": {
    "name": "ipython",
    "version": 3
   },
   "file_extension": ".py",
   "mimetype": "text/x-python",
   "name": "python",
   "nbconvert_exporter": "python",
   "pygments_lexer": "ipython3",
   "version": "3.7.7"
  }
 },
 "nbformat": 4,
 "nbformat_minor": 4
}
